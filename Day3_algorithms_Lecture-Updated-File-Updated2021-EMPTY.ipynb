{
 "cells": [
  {
   "cell_type": "markdown",
   "metadata": {},
   "source": [
    "## Binary Search Trees\n",
    "\n",
    "Linked list is to List as BST is to Dictionary"
   ]
  },
  {
   "cell_type": "code",
   "execution_count": 36,
   "metadata": {},
   "outputs": [
    {
     "name": "stdout",
     "output_type": "stream",
     "text": [
      "1\n",
      "10\n",
      "23\n",
      "39\n",
      "40\n",
      "43\n",
      "50\n"
     ]
    }
   ],
   "source": [
    "class BST():\n",
    "    def __init__(self,value):\n",
    "        self.value = value # Current Value\n",
    "        self.left = None\n",
    "        self.right = None\n",
    "    def insert(self,value):\n",
    "        if value < self.value:\n",
    "            if self.left is None:\n",
    "                self.left = BST(value)\n",
    "            else:\n",
    "                self.left.insert(value)\n",
    "        else:\n",
    "            if self.right is None:\n",
    "                self.right = BST(value)\n",
    "            else:\n",
    "                self.right.insert(value)\n",
    "        return self\n",
    "    def contains(self,value):\n",
    "        if value < self.value: # if passed value is less than current value\n",
    "            if self.left is None:\n",
    "                return False\n",
    "            else:\n",
    "                return self.left.contains(value)\n",
    "        elif value > self.value:\n",
    "            if self.right is None:\n",
    "                return False\n",
    "            else:\n",
    "                return self.right.contains(value)\n",
    "        else:\n",
    "            return True\n",
    "    def get_min_value(self):\n",
    "        if self.left is None:\n",
    "            return self.value\n",
    "        else:\n",
    "            return self.left.get_min_value()\n",
    "    def get_max_value(self):\n",
    "        if self.right is None:\n",
    "            return self.value\n",
    "        else:\n",
    "            return self.right.get_max_value()\n",
    "        \n",
    "    def inorder(self, root):\n",
    "        if root:\n",
    "            self.inorder(root.left)\n",
    "            print(root.value)\n",
    "            self.inorder(root.right)\n",
    "            \n",
    "\n",
    "bst_example = BST(39)\n",
    "bst_example.insert(40)\n",
    "bst_example.insert(10)\n",
    "bst_example.insert(43)\n",
    "bst_example.insert(50)\n",
    "bst_example.insert(1)\n",
    "bst_example.insert(23)\n",
    "\n",
    "bst_example.inorder(bst_example)"
   ]
  },
  {
   "cell_type": "markdown",
   "metadata": {},
   "source": [
    "## In Class Exercise\n",
    "\n",
    "Invert a Binary Tree"
   ]
  },
  {
   "cell_type": "code",
   "execution_count": 37,
   "metadata": {
    "scrolled": true
   },
   "outputs": [
    {
     "name": "stdout",
     "output_type": "stream",
     "text": [
      "1\n",
      "10\n",
      "23\n",
      "39\n",
      "40\n",
      "43\n",
      "50\n"
     ]
    }
   ],
   "source": [
    "class BST():\n",
    "    def __init__(self,value):\n",
    "        self.value = value # Current Value\n",
    "        self.left = None\n",
    "        self.right = None\n",
    "    def insert(self,value):\n",
    "        if value < self.value:\n",
    "            if self.left is None:\n",
    "                self.left = BST(value)\n",
    "            else:\n",
    "                self.left.insert(value)\n",
    "        else:\n",
    "            if self.right is None:\n",
    "                self.right = BST(value)\n",
    "            else:\n",
    "                self.right.insert(value)\n",
    "        return self\n",
    "    def contains(self,value):\n",
    "        if value < self.value: # if passed value is less than current value\n",
    "            if self.left is None:\n",
    "                return False\n",
    "            else:\n",
    "                return self.left.contains(value)\n",
    "        elif value > self.value:\n",
    "            if self.right is None:\n",
    "                return False\n",
    "            else:\n",
    "                return self.right.contains(value)\n",
    "        else:\n",
    "            return True\n",
    "    def get_min_value(self):\n",
    "        if self.left is None:\n",
    "            return self.value\n",
    "        else:\n",
    "            return self.left.get_min_value()\n",
    "    def get_max_value(self):\n",
    "        if self.right is None:\n",
    "            return self.value\n",
    "        else:\n",
    "            return self.right.get_max_value()\n",
    "        \n",
    "    def inorder(self, root):\n",
    "        if root:\n",
    "            self.inorder(root.left)\n",
    "            print(root.value)\n",
    "            self.inorder(root.right)\n",
    "            \n",
    "\n",
    "bst_example = BST(39)\n",
    "bst_example.insert(40)\n",
    "bst_example.insert(10)\n",
    "bst_example.insert(43)\n",
    "bst_example.insert(50)\n",
    "bst_example.insert(1)\n",
    "bst_example.insert(23)\n",
    "\n",
    "bst_example.inorder(bst_example)"
   ]
  },
  {
   "cell_type": "code",
   "execution_count": 45,
   "metadata": {},
   "outputs": [
    {
     "ename": "TypeError",
     "evalue": "invert() missing 1 required positional argument: 'root'",
     "output_type": "error",
     "traceback": [
      "\u001b[1;31m---------------------------------------------------------------------------\u001b[0m",
      "\u001b[1;31mTypeError\u001b[0m                                 Traceback (most recent call last)",
      "Input \u001b[1;32mIn [45]\u001b[0m, in \u001b[0;36m<cell line: 6>\u001b[1;34m()\u001b[0m\n\u001b[0;32m      4\u001b[0m         root\u001b[38;5;241m.\u001b[39mleft, root\u001b[38;5;241m.\u001b[39mright \u001b[38;5;241m=\u001b[39m root\u001b[38;5;241m.\u001b[39mright, root\u001b[38;5;241m.\u001b[39mleft\n\u001b[0;32m      5\u001b[0m         \u001b[38;5;28mself\u001b[39m\u001b[38;5;241m.\u001b[39minvert(root\u001b[38;5;241m.\u001b[39mleft)\n\u001b[1;32m----> 6\u001b[0m \u001b[43minvert\u001b[49m\u001b[43m(\u001b[49m\u001b[43mBST\u001b[49m\u001b[43m)\u001b[49m\n\u001b[0;32m      7\u001b[0m \u001b[38;5;28mprint\u001b[39m(\u001b[38;5;124m\"\u001b[39m\u001b[38;5;124m=\u001b[39m\u001b[38;5;124m\"\u001b[39m\u001b[38;5;241m*\u001b[39m\u001b[38;5;241m20\u001b[39m)\n",
      "\u001b[1;31mTypeError\u001b[0m: invert() missing 1 required positional argument: 'root'"
     ]
    }
   ],
   "source": [
    "def invert(self, root):\n",
    "        if root:\n",
    "            self.invert(root.right)\n",
    "            self.invert(root.left)\n",
    "            root.left, root.right = root.right, root.left\n",
    "\n",
    "#bst_example.inorder(bst_example)"
   ]
  },
  {
   "cell_type": "code",
   "execution_count": 68,
   "metadata": {},
   "outputs": [
    {
     "name": "stdout",
     "output_type": "stream",
     "text": [
      "Hello World! how are you?\n"
     ]
    }
   ],
   "source": [
    "# Implement a function that receives a string, and lets you extend it with repeated calls.\n",
    "#When no argument is passed you should return a string consisting of space-separated words you've received earlier.\n",
    "\n",
    "# Note: there will always be at least 1 string; all inputs will be non-empty.\n",
    "\n",
    "# For example:\n",
    "\n",
    "# create_message(\"Hello\")(\"World!\")(\"how\")(\"are\")(\"you?\")() == \"Hello World! how are you?\"\n",
    "\n",
    "def create_message(string):\n",
    "    joined= [ string ]\n",
    "    def inner(s=None):\n",
    "        if s == None:\n",
    "            return \" \".join(joined)\n",
    "        joined.append(s)\n",
    "        return inner\n",
    "    return inner\n",
    "print(create_message(\"Hello\")(\"World!\")(\"how\")(\"are\")(\"you?\")())"
   ]
  },
  {
   "cell_type": "markdown",
   "metadata": {},
   "source": [
    "# Exercises"
   ]
  },
  {
   "cell_type": "markdown",
   "metadata": {},
   "source": [
    "### Exercise #1 <br>\n",
    "<p>Reverse the list below in-place using an in-place algorithm.<br>For extra credit: Reverse the strings at the same time.</p>"
   ]
  },
  {
   "cell_type": "code",
   "execution_count": 101,
   "metadata": {},
   "outputs": [
    {
     "name": "stdout",
     "output_type": "stream",
     "text": [
      "['this', 'is', 'a', 'sentence', '.']\n",
      "['.', 'sentence', 'a', 'is', 'this']\n"
     ]
    }
   ],
   "source": [
    "def reverse(alist, start, end):\n",
    "    while start < end:\n",
    "        alist[start], alist[end] = alist[end], alist[start]\n",
    "        start += 1\n",
    "        end -= 1\n",
    "\n",
    "        \n",
    "words = ['this' , 'is', 'a', 'sentence', '.']\n",
    "print(words)\n",
    "reverse(words, 0, 4)\n",
    "\n",
    "print(words)"
   ]
  },
  {
   "cell_type": "markdown",
   "metadata": {},
   "source": [
    "### Exercise #2 <br>\n",
    "<p>Create a function that counts how many distinct words are in the string below, then outputs a dictionary with the words as the key and the value as the amount of times that word appears in the string.<br>Should output:<br>{'a': 5,<br>\n",
    " 'abstract': 1,<br>\n",
    " 'an': 3,<br>\n",
    " 'array': 2, ... etc...</p>"
   ]
  },
  {
   "cell_type": "code",
   "execution_count": 140,
   "metadata": {},
   "outputs": [
    {
     "data": {
      "text/plain": [
       "Counter({'in': 1,\n",
       "         'computing': 1,\n",
       "         'a': 5,\n",
       "         'hash': 4,\n",
       "         'table': 2,\n",
       "         'map': 2,\n",
       "         'is': 1,\n",
       "         'data': 2,\n",
       "         'structure': 2,\n",
       "         'which': 2,\n",
       "         'implements': 1,\n",
       "         'an': 3,\n",
       "         'associative': 1,\n",
       "         'array': 2,\n",
       "         'abstract': 1,\n",
       "         'type': 1,\n",
       "         'that': 1,\n",
       "         'can': 2,\n",
       "         'keys': 1,\n",
       "         'to': 2,\n",
       "         'values': 1,\n",
       "         'uses': 1,\n",
       "         'function': 1,\n",
       "         'compute': 1,\n",
       "         'index': 1,\n",
       "         'into': 1,\n",
       "         'of': 1,\n",
       "         'buckets': 1,\n",
       "         'or': 1,\n",
       "         'slots': 1,\n",
       "         'from': 1,\n",
       "         'the': 1,\n",
       "         'desired': 1,\n",
       "         'value': 1,\n",
       "         'be': 1,\n",
       "         'found': 1})"
      ]
     },
     "execution_count": 140,
     "metadata": {},
     "output_type": "execute_result"
    }
   ],
   "source": [
    "a_text = 'In computing, a hash table hash map is a data structure which implements an associative array abstract data type, a structure that can map keys to values. A hash table uses a hash function to compute an index into an array of buckets or slots from which the desired value can be found'\n",
    "\n",
    "from collections import Counter\n",
    "import re\n",
    "def word_count(astring):\n",
    "    new_string = re.sub(r\"[\\W]+\", \" \", astring)\n",
    "    mid_string = new_string.lower().split()\n",
    "    return Counter(mid_string)\n",
    "word_count(a_text)\n"
   ]
  },
  {
   "cell_type": "markdown",
   "metadata": {},
   "source": [
    "## Exercise #3\n",
    "\n",
    "Write a program to implement a Linear Search Algorithm. Also in a comment, write the Time Complexity of the following algorithm.\n",
    "\n",
    "#### Hint: Linear Searching will require searching a list for a given number. "
   ]
  },
  {
   "cell_type": "code",
   "execution_count": 81,
   "metadata": {},
   "outputs": [
    {
     "name": "stdout",
     "output_type": "stream",
     "text": [
      "3\n"
     ]
    }
   ],
   "source": [
    "nums_list = [10,23,45,70,11,15]\n",
    "target = 70\n",
    "l = len(nums_list)\n",
    "\n",
    "def num_search(alist, l, target):\n",
    "    for i in range(0, l):\n",
    "        if (alist[i] == target):\n",
    "            return i\n",
    "    return -1\n",
    " \n",
    "\n",
    "# If number is not present return -1 for loop\n",
    "num_search(nums_list, l, target)"
   ]
  },
  {
   "cell_type": "code",
   "execution_count": null,
   "metadata": {},
   "outputs": [],
   "source": [
    "its O(n)"
   ]
  }
 ],
 "metadata": {
  "kernelspec": {
   "display_name": "Python 3 (ipykernel)",
   "language": "python",
   "name": "python3"
  },
  "language_info": {
   "codemirror_mode": {
    "name": "ipython",
    "version": 3
   },
   "file_extension": ".py",
   "mimetype": "text/x-python",
   "name": "python",
   "nbconvert_exporter": "python",
   "pygments_lexer": "ipython3",
   "version": "3.9.12"
  }
 },
 "nbformat": 4,
 "nbformat_minor": 2
}
